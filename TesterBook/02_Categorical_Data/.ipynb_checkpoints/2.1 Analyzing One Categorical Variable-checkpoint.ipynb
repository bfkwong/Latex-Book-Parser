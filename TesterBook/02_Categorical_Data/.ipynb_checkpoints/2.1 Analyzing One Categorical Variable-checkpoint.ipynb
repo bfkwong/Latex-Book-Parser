{
 "cells": [
  {
   "cell_type": "markdown",
   "metadata": {
    "colab_type": "text",
    "id": "XRBPQWpZJtZm"
   },
   "source": [
    "## 2.1 Analyzing One Categorical Variable\n",
    "\n",
    "In this lesson, we focus on a single categorical variable. For a high-level summary of a categorical variable, we can use the `.describe()` command. Note that the behavior of `.describe()` will change, depending on whether `pandas` thinks that the variable is quantitative or categorical, which is why it is important to cast categorical variables to the right type, as we discussed in the previous chapter."
   ]
  },
  {
   "cell_type": "code",
   "execution_count": null,
   "metadata": {
    "colab": {},
    "colab_type": "code",
    "id": "nru7HFtNJtZn"
   },
   "outputs": [],
   "source": [
    "df_titanic[\"class\"].describe()"
   ]
  },
  {
   "cell_type": "markdown",
   "metadata": {
    "colab_type": "text",
    "id": "AUwJjfTQJtZt"
   },
   "source": [
    "To completely summarize a single categorical variable, we report the number of times each level appeared, or its **frequency**."
   ]
  },
  {
   "cell_type": "code",
   "execution_count": null,
   "metadata": {
    "colab": {},
    "colab_type": "code",
    "id": "E4kcGK9TJtZt"
   },
   "outputs": [],
   "source": [
    "class_counts = df_titanic[\"class\"].value_counts()\n",
    "class_counts"
   ]
  },
  {
   "cell_type": "markdown",
   "metadata": {
    "colab_type": "text",
    "id": "Bmk5Y7zQJtZw"
   },
   "source": [
    "Notice that the levels are sorted in decreasing order of frequency by default. We can also report the levels in the order they appear in the data set..."
   ]
  },
  {
   "cell_type": "code",
   "execution_count": null,
   "metadata": {
    "colab": {},
    "colab_type": "code",
    "id": "yEK0-PecJtZx"
   },
   "outputs": [],
   "source": [
    "df_titanic[\"class\"].value_counts(sort=False)"
   ]
  },
  {
   "cell_type": "markdown",
   "metadata": {
    "colab_type": "text",
    "id": "7P-TqJvrJtZ0"
   },
   "source": [
    "...or in alphabetical order, by sorting the index:"
   ]
  },
  {
   "cell_type": "code",
   "execution_count": null,
   "metadata": {
    "colab": {},
    "colab_type": "code",
    "id": "w1jjt1nuJtZ0"
   },
   "outputs": [],
   "source": [
    "class_counts.sort_index()"
   ]
  },
  {
   "cell_type": "markdown",
   "metadata": {
    "colab_type": "text",
    "id": "kCTkd_7OJtZ3"
   },
   "source": [
    "Note that this produces a _new_ `Series` with the index sorted. It does not sort the original `Series` `class_counts`. To sort the original series, we need to specify that the sorting should be done in place, just like we did for `.set_index()` in Chapter 1."
   ]
  },
  {
   "cell_type": "code",
   "execution_count": null,
   "metadata": {
    "colab": {},
    "colab_type": "code",
    "id": "6tMY5S4CJtZ3"
   },
   "outputs": [],
   "source": [
    "class_counts.sort_index(inplace=True)\n",
    "class_counts"
   ]
  },
  {
   "cell_type": "markdown",
   "metadata": {
    "colab_type": "text",
    "id": "HBFyIJmYJtZ8"
   },
   "source": [
    "Any other order would require selecting the levels manually, in the desired order."
   ]
  },
  {
   "cell_type": "code",
   "execution_count": null,
   "metadata": {
    "colab": {},
    "colab_type": "code",
    "id": "Q7vi4FgIJtZ9"
   },
   "outputs": [],
   "source": [
    "class_counts.loc[\n",
    "    [\"1st\", \"2nd\", \"3rd\",\n",
    "     \"deck crew\", \"engineering crew\", \"victualling crew\",\n",
    "     \"restaurant staff\"]\n",
    "]"
   ]
  },
  {
   "cell_type": "markdown",
   "metadata": {
    "colab_type": "text",
    "id": "IKNQM_UxJtZ_"
   },
   "source": [
    "This information can be visualized using a **bar chart**."
   ]
  },
  {
   "cell_type": "code",
   "execution_count": null,
   "metadata": {
    "colab": {},
    "colab_type": "code",
    "id": "1Pr1BpI9JtZ_"
   },
   "outputs": [],
   "source": [
    "class_counts.plot.bar()"
   ]
  },
  {
   "cell_type": "markdown",
   "metadata": {
    "colab_type": "text",
    "id": "D2ST50hRJtaB"
   },
   "source": [
    "Instead of reporting counts, we can also report proportions or probabilities, or the **relative frequencies**. We can calculate the relative frequencies by specifying `normalize=True` in `.value_counts()`."
   ]
  },
  {
   "cell_type": "code",
   "execution_count": null,
   "metadata": {
    "colab": {},
    "colab_type": "code",
    "id": "D-3JccgEJtaC"
   },
   "outputs": [],
   "source": [
    "class_probs = df_titanic[\"class\"].value_counts(normalize=True)\n",
    "class_probs.sort_index()"
   ]
  },
  {
   "cell_type": "markdown",
   "metadata": {
    "colab_type": "text",
    "id": "g6EKTxBBJtaE"
   },
   "source": [
    "This is equivalent to taking the counts and dividing by their sum."
   ]
  },
  {
   "cell_type": "code",
   "execution_count": null,
   "metadata": {
    "colab": {},
    "colab_type": "code",
    "id": "Z2X-cH0wJtaF"
   },
   "outputs": [],
   "source": [
    "class_counts / class_counts.sum()"
   ]
  },
  {
   "cell_type": "markdown",
   "metadata": {
    "colab_type": "text",
    "id": "a5wGkd9AJtaH"
   },
   "source": [
    "Notice that the relative frequencies add up to 1.0, by construction. We can report these relative frequencies using probability notation. For example:\n",
    "\n",
    "$$ P(\\text{1st class}) = 0.146806. $$\n",
    "\n",
    "The complete collection of probabilities of all levels of a variable is called the **distribution** of that variable. So the code above calculates the distribution of \"class\" on the Titanic."
   ]
  },
  {
   "cell_type": "markdown",
   "metadata": {
    "colab_type": "text",
    "id": "swUzbXFGJtaH"
   },
   "source": [
    "The bar chart for relative frequencies (i.e., probabilities) looks qualitatively the same as the bar chart for frequencies (i.e., counts). The only difference is that the scale on the $y$-axis is different."
   ]
  },
  {
   "cell_type": "code",
   "execution_count": null,
   "metadata": {
    "colab": {},
    "colab_type": "code",
    "id": "LNEzMug6JtaI"
   },
   "outputs": [],
   "source": [
    "class_probs.sort_index().plot.bar()"
   ]
  },
  {
   "cell_type": "markdown",
   "metadata": {
    "colab_type": "text",
    "id": "T-aiM7OfJtaM"
   },
   "source": [
    "In the next lesson, we will see why it is often more useful to plot the relative frequencies (i.e., probabilities) rather than the frequencies (i.e., counts)."
   ]
  },
  {
   "cell_type": "markdown",
   "metadata": {
    "colab_type": "text",
    "id": "O1R6vBYwJtaN"
   },
   "source": [
    "### 2.1.1 Transforming Categorical Variables\n",
    "\n",
    "A categorical variable can be transformed by mapping its levels to new levels. For example, we may only be interested in whether a person on the titanic was a passenger or a crew member. The variable `class` is too detailed. We can create a new variable, `type`, that is derived from the existing variable `class`. Observations with a `class` of \"1st\", \"2nd\", or \"3rd\" get a value of \"passenger\", while observations with a `class` of \"deck crew\", \"engineering crew\", or \"deck crew\" get a value of \"crew\"."
   ]
  },
  {
   "cell_type": "code",
   "execution_count": null,
   "metadata": {
    "colab": {},
    "colab_type": "code",
    "id": "gsA4gHKhJtaN"
   },
   "outputs": [],
   "source": [
    "df_titanic[\"type\"] = df_titanic[\"class\"].map({\n",
    "    \"1st\": \"passenger\",\n",
    "    \"2nd\": \"passenger\",\n",
    "    \"3rd\": \"passenger\",\n",
    "    \"victualling crew\": \"crew\",\n",
    "    \"engineering crew\": \"crew\",\n",
    "    \"deck crew\": \"crew\"\n",
    "})\n",
    "\n",
    "df_titanic"
   ]
  },
  {
   "cell_type": "markdown",
   "metadata": {
    "colab_type": "text",
    "id": "u082T2xbJtaP"
   },
   "source": [
    "Upon closer inspection of this `DataFrame`, we see that we accidentally left out the level \"restaurant staff\" in the input to `.map()`. Any levels that are unspecified will be mapped to the missing value `NaN`.\n",
    "\n",
    "This suggests a more concise way to define the new variable `type`. We can specify only the levels for passengers in the mapping and then fill in the missing values afterwards."
   ]
  },
  {
   "cell_type": "code",
   "execution_count": null,
   "metadata": {
    "colab": {},
    "colab_type": "code",
    "id": "fL2fQ8O8JtaQ"
   },
   "outputs": [],
   "source": [
    "df_titanic[\"type\"] = df_titanic[\"class\"].map({\n",
    "    \"1st\": \"passenger\",\n",
    "    \"2nd\": \"passenger\",\n",
    "    \"3rd\": \"passenger\"\n",
    "})\n",
    "\n",
    "# Replace all missing values by \"crew\"\n",
    "df_titanic[\"type\"].fillna(\"crew\", inplace=True)\n",
    "\n",
    "df_titanic"
   ]
  },
  {
   "cell_type": "markdown",
   "metadata": {
    "colab_type": "text",
    "id": "scGxkqKfXVk-"
   },
   "source": [
    "For more complex mappings, the `.map()` method also accepts a function. So the above "
   ]
  },
  {
   "cell_type": "code",
   "execution_count": null,
   "metadata": {
    "colab": {},
    "colab_type": "code",
    "id": "q2LwDPWMXsXH"
   },
   "outputs": [],
   "source": [
    "def class_to_type(c):\n",
    "  if c in [\"1st\", \"2nd\", \"3rd\"]:\n",
    "    return \"passenger\"\n",
    "  else:\n",
    "    return \"crew\"\n",
    "\n",
    "df_titanic[\"class\"].map(class_to_type)"
   ]
  },
  {
   "cell_type": "markdown",
   "metadata": {
    "colab_type": "text",
    "id": "oNImjvbGJtaS"
   },
   "source": [
    "We can apply the techniques we learned above to calculate the _distribution_ of this new variable, which only has two levels."
   ]
  },
  {
   "cell_type": "code",
   "execution_count": null,
   "metadata": {
    "colab": {},
    "colab_type": "code",
    "id": "TEGiAcFAJtaT"
   },
   "outputs": [],
   "source": [
    "df_titanic[\"type\"].value_counts(normalize=True)"
   ]
  },
  {
   "cell_type": "markdown",
   "metadata": {
    "colab_type": "text",
    "id": "yF-G7EIXJtaV"
   },
   "source": [
    "### 2.1.2 Conditional Probabilities\n",
    "\n",
    "What fraction of males were crew members? To answer questions like this, we have to filter the `DataFrame` to include only males.\n",
    "\n",
    "The standard way to filter a `DataFrame` is to use a **boolean mask**. A boolean mask is simply a `Series` of booleans whose index matches the index of the `DataFrame`.\n",
    "\n",
    "The easiest way to create a boolean mask is to use one of the standard comparison operators `==`, `<`, `>`, and `!=` on an existing column in the `DataFrame`. For example, the following code produces a boolean mask that is equal to `True` for the males on the Titanic and `False` otherwise."
   ]
  },
  {
   "cell_type": "code",
   "execution_count": null,
   "metadata": {
    "colab": {},
    "colab_type": "code",
    "id": "LaR02lRMJtaW"
   },
   "outputs": [],
   "source": [
    "df_titanic[\"gender\"] == \"male\""
   ]
  },
  {
   "cell_type": "markdown",
   "metadata": {
    "colab_type": "text",
    "id": "fPlvq_-mJtad"
   },
   "source": [
    "Notice the subtle way the equality operator `==` is being used here! We are comparing an array with a string, i.e.,\n",
    "\n",
    "$$\\begin{align}\n",
    "& \\begin{bmatrix} \\text{\"male\"} \\\\ \\text{\"male\"} \\\\ \\text{\"male\"} \\\\ \\text{\"female\"} \\\\ \\vdots \\\\ \\text{\"male\"} \\end{bmatrix} & \\text{with} & & \\text{\"male\"}.\n",
    "\\label{broadcast1}\\tag{1}\n",
    "\\end{align}$$\n",
    "\n",
    "In most programming languages, this comparison would make no sense. An array of strings is obviously not equal to a string $\\eqref{broadcast1}$. However, `pandas` automatically applies the equality operator to _each_ element of the array. As a result, we get an entire array (i.e., a `Series`) of booleans.\n",
    "\n",
    "$$\\begin{align}\n",
    " \\begin{bmatrix} \\text{\"male\"} \\\\ \\text{\"male\"} \\\\ \\text{\"male\"} \\\\ \\text{\"female\"} \\\\ \\vdots \\\\ \\text{\"male\"} \\end{bmatrix} &== \\text{\"male\"} &\\Longrightarrow & &  \\begin{bmatrix} \\text{True} \\\\ \\text{True} \\\\ \\text{True} \\\\ \\text{False} \\\\ \\vdots \\\\ \\text{True} \\end{bmatrix}.\n",
    "\\label{broadcast2}\\tag{2}\n",
    "\\end{align}$$\n",
    "\n",
    "When an operation is applied to each element of an array, it is said to be **broadcast** over that array $\\eqref{broadcast2}$.\n",
    "\n",
    "Now, we can use the boolean mask as a filter on the `DataFrame` to extract the rows where the mask equals `True`."
   ]
  },
  {
   "cell_type": "code",
   "execution_count": null,
   "metadata": {
    "colab": {},
    "colab_type": "code",
    "id": "1O6x3ZoZJtaf"
   },
   "outputs": [],
   "source": [
    "df_male = df_titanic[df_titanic[\"gender\"] == \"male\"]\n",
    "df_male"
   ]
  },
  {
   "cell_type": "markdown",
   "metadata": {
    "colab_type": "text",
    "id": "1NXzBSg6Jtai"
   },
   "source": [
    "Note that every person in this new `DataFrame` is male. If you inspect the index, you will see that rows 4 and 5 are missing. That is because those passengers were female."
   ]
  },
  {
   "cell_type": "markdown",
   "metadata": {
    "colab_type": "text",
    "id": "rj6sUAzlJtaj"
   },
   "source": [
    "Finally, we can apply the methods we've learned in this lesson to `df_male` to answer the original question: \"What fraction of males were crew members?\""
   ]
  },
  {
   "cell_type": "code",
   "execution_count": null,
   "metadata": {
    "colab": {},
    "colab_type": "code",
    "id": "PL5AZdDCJtak"
   },
   "outputs": [],
   "source": [
    "df_male[\"type\"].value_counts(normalize=True)"
   ]
  },
  {
   "cell_type": "markdown",
   "metadata": {
    "colab_type": "text",
    "id": "h8JMRXKrJtam"
   },
   "source": [
    "It appears that about `50.4657%` of the males were crew members. We can notate this using _conditional probability_ notation:\n",
    "\n",
    "$$ P(\\text{crew} | \\text{male}) = 0.504657. $$\n",
    "\n",
    "The bar $|$ is read as \"given\". The information after the bar is the given information. In this case, we were interested in the probability a person was a crew member, \"given\" they were male. That is, after restricting to the male passengers (i.e., using a boolean mask as a filter), we want to know the relative frequency of crew members."
   ]
  },
  {
   "cell_type": "markdown",
   "metadata": {
    "colab_type": "text",
    "id": "ZGI7SaceJtam"
   },
   "source": [
    "We can also filter on multiple criteria. For example, if we want to know the fraction of male _survivors_ who were crew members, we need to combine two boolean masks, one based on the column `gender` and another based on the column `survived`. The two masks can be combined using the logical operator `&`."
   ]
  },
  {
   "cell_type": "code",
   "execution_count": null,
   "metadata": {
    "colab": {},
    "colab_type": "code",
    "id": "5-OhXQDXJtan"
   },
   "outputs": [],
   "source": [
    "(df_titanic[\"gender\"] == \"male\") & (df_titanic[\"survived\"] == 1)"
   ]
  },
  {
   "cell_type": "markdown",
   "metadata": {
    "colab_type": "text",
    "id": "ygJIJbtOJtat"
   },
   "source": [
    "Notice that the logical operator was _broadcast_ (that word again!) over the elements of the two `Series`. In other words, the logical operator was applied to each element, producing a `Series` of booleans.\n",
    "\n",
    "Now we can use this new boolean mask to filter the `DataFrame`, just as we did before."
   ]
  },
  {
   "cell_type": "code",
   "execution_count": null,
   "metadata": {
    "colab": {},
    "colab_type": "code",
    "id": "KdfY3t-wJtau"
   },
   "outputs": [],
   "source": [
    "df_male_survivors = df_titanic[(df_titanic[\"gender\"] == \"male\") & (df_titanic[\"survived\"] == 1)]\n",
    "df_male_survivors"
   ]
  },
  {
   "cell_type": "markdown",
   "metadata": {
    "colab_type": "text",
    "id": "xabQIG56Jtaw"
   },
   "source": [
    "Besides $\\verb|&|$, there are two other logical operators that can be used to modify and combine boolean masks.\n",
    "\n",
    "- $\\verb|&|$ means \"and\"\n",
    "- $\\verb|||$ means \"or\"\n",
    "- $\\verb|~|$ means \"not\"\n",
    "\n",
    "Like $\\verb|&|$, the operators $\\verb|||$ and $\\verb|~|$ are broadcast over the boolean masks."
   ]
  },
  {
   "cell_type": "markdown",
   "metadata": {
    "colab_type": "text",
    "id": "tbOe6iaWJtaw"
   },
   "source": [
    "### 2.1.3 Exercises"
   ]
  },
  {
   "cell_type": "markdown",
   "metadata": {
    "colab_type": "text",
    "id": "joCIoBDTJtax"
   },
   "source": [
    "_Exercises 1-2 ask you to continue working with the Titanic data set explored in this lesson._"
   ]
  },
  {
   "cell_type": "markdown",
   "metadata": {
    "colab_type": "text",
    "id": "1GsCobcZJtax"
   },
   "source": [
    "1\\. What proportion of crew members were male? Express your answer using probability notation. How does this proportion differ from the proportion that was calculated in the lesson?"
   ]
  },
  {
   "cell_type": "markdown",
   "metadata": {
    "colab_type": "text",
    "id": "YMb6xZ8-Jtay"
   },
   "source": [
    "2\\. What is the distribution of gender among passengers on the Titanic? What is the distribution of gender among passengers on the Titanic who survived? Express your answers using probability notation."
   ]
  },
  {
   "cell_type": "markdown",
   "metadata": {
    "colab_type": "text",
    "id": "QZ16JR0GJtaz"
   },
   "source": [
    "_Exercises 3-5 deal with the OKCupid data set, which consists of user profiles in the San Francisco Bay Area on the dating website OKCupid. This data set is available at the URL https://dlsun.github.io/pods/data/okcupid.csv._"
   ]
  },
  {
   "cell_type": "markdown",
   "metadata": {
    "colab_type": "text",
    "id": "jSNtXGq1Jta0"
   },
   "source": [
    "3\\. Make a visualization of the distribution of drinking status."
   ]
  },
  {
   "cell_type": "markdown",
   "metadata": {
    "colab_type": "text",
    "id": "YuMsp3GLJta1"
   },
   "source": [
    "4\\. Create a new variable that indicates whether the user has, likes, or dislikes cats. Visualize the distribution of this variable."
   ]
  },
  {
   "cell_type": "markdown",
   "metadata": {
    "colab_type": "text",
    "id": "beEYGriXJta2"
   },
   "source": [
    "5\\. If you were a heterosexual female interested in dating a non-smoker, how many options would you have in this data set?"
   ]
  }
 ],
 "metadata": {
  "colab": {
   "name": "2.1 Analyzing One Categorical Variable.ipynb",
   "provenance": []
  },
  "kernelspec": {
   "display_name": "Python 3",
   "language": "python",
   "name": "python3"
  },
  "language_info": {
   "codemirror_mode": {
    "name": "ipython",
    "version": 3
   },
   "file_extension": ".py",
   "mimetype": "text/x-python",
   "name": "python",
   "nbconvert_exporter": "python",
   "pygments_lexer": "ipython3",
   "version": "3.7.4"
  }
 },
 "nbformat": 4,
 "nbformat_minor": 4
}
