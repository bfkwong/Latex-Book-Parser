{
 "cells": [
  {
   "cell_type": "markdown",
   "metadata": {
    "colab_type": "text",
    "id": "view-in-github"
   },
   "source": [
    "<a href=\"https://colab.research.google.com/github/dlsun/pods/blob/master/02-Categorical-Data/2_3_Multi_Way_Tables_and_Simpson's_Paradox.ipynb\" target=\"_parent\"><img src=\"https://colab.research.google.com/assets/colab-badge.svg\" alt=\"Open In Colab\"/></a>"
   ]
  },
  {
   "cell_type": "markdown",
   "metadata": {
    "colab_type": "text",
    "id": "uRiJZiI2UGqS"
   },
   "source": [
    "## 2.3 Multi-Way Tables and Simpson's Paradox"
   ]
  },
  {
   "cell_type": "markdown",
   "metadata": {
    "colab_type": "text",
    "id": "UepmwTW_ZbM2"
   },
   "source": [
    "In the previous lesson, we summarized two categorical variables by cross-tabulating their frequencies."
   ]
  },
  {
   "cell_type": "code",
   "execution_count": 1,
   "metadata": {
    "colab": {},
    "colab_type": "code",
    "id": "id7WQ9gyj23f"
   },
   "outputs": [
    {
     "data": {
      "text/html": [
       "<div>\n",
       "<style scoped>\n",
       "    .dataframe tbody tr th:only-of-type {\n",
       "        vertical-align: middle;\n",
       "    }\n",
       "\n",
       "    .dataframe tbody tr th {\n",
       "        vertical-align: top;\n",
       "    }\n",
       "\n",
       "    .dataframe thead th {\n",
       "        text-align: right;\n",
       "    }\n",
       "</style>\n",
       "<table border=\"1\" class=\"dataframe\">\n",
       "  <thead>\n",
       "    <tr style=\"text-align: right;\">\n",
       "      <th>survived</th>\n",
       "      <th>0</th>\n",
       "      <th>1</th>\n",
       "    </tr>\n",
       "    <tr>\n",
       "      <th>type</th>\n",
       "      <th></th>\n",
       "      <th></th>\n",
       "    </tr>\n",
       "  </thead>\n",
       "  <tbody>\n",
       "    <tr>\n",
       "      <th>crew</th>\n",
       "      <td>0.307657</td>\n",
       "      <td>0.095605</td>\n",
       "    </tr>\n",
       "    <tr>\n",
       "      <th>passenger</th>\n",
       "      <td>0.370186</td>\n",
       "      <td>0.226552</td>\n",
       "    </tr>\n",
       "  </tbody>\n",
       "</table>\n",
       "</div>"
      ],
      "text/plain": [
       "survived          0         1\n",
       "type                         \n",
       "crew       0.307657  0.095605\n",
       "passenger  0.370186  0.226552"
      ]
     },
     "execution_count": 1,
     "metadata": {},
     "output_type": "execute_result"
    }
   ],
   "source": [
    "import pandas as pd\n",
    "data_dir = \"http://dlsun.github.io/pods/data/\"\n",
    "df_titanic = pd.read_csv(data_dir + \"titanic.csv\")\n",
    "\n",
    "def class_to_type(c):\n",
    "  if c in [\"1st\", \"2nd\", \"3rd\"]:\n",
    "    return \"passenger\"\n",
    "  else:\n",
    "    return \"crew\"\n",
    "df_titanic[\"type\"] = df_titanic[\"class\"].map(class_to_type)\n",
    "\n",
    "joint_type_survived = pd.crosstab(\n",
    "    df_titanic[\"type\"],\n",
    "    df_titanic[\"survived\"],\n",
    "    normalize=True\n",
    ")\n",
    "joint_type_survived"
   ]
  },
  {
   "cell_type": "markdown",
   "metadata": {
    "colab_type": "text",
    "id": "xgorPDfGQgP8"
   },
   "source": [
    "Each number in this table represents a joint probability. For example:\n",
    "$$ P(\\text{crew}, \\text{survived}) = 0.095605. $$\n",
    "\n",
    "We might want to know whether crew members or passengers survived at higher rates. To do this, we have to compare the conditional probabilities\n",
    "$$\\begin{align}\n",
    "P(\\text{survived} | \\text{crew}) & & \\text{vs.} & & P(\\text{survived} | \\text{passenger}).\n",
    "\\end{align}$$\n",
    "\n",
    "In the last lesson, we learned to calculate conditional distributions using broadcasting."
   ]
  },
  {
   "cell_type": "code",
   "execution_count": 2,
   "metadata": {
    "colab": {},
    "colab_type": "code",
    "id": "CpaMfTs5TyY6"
   },
   "outputs": [
    {
     "data": {
      "text/html": [
       "<div>\n",
       "<style scoped>\n",
       "    .dataframe tbody tr th:only-of-type {\n",
       "        vertical-align: middle;\n",
       "    }\n",
       "\n",
       "    .dataframe tbody tr th {\n",
       "        vertical-align: top;\n",
       "    }\n",
       "\n",
       "    .dataframe thead th {\n",
       "        text-align: right;\n",
       "    }\n",
       "</style>\n",
       "<table border=\"1\" class=\"dataframe\">\n",
       "  <thead>\n",
       "    <tr style=\"text-align: right;\">\n",
       "      <th>survived</th>\n",
       "      <th>0</th>\n",
       "      <th>1</th>\n",
       "    </tr>\n",
       "    <tr>\n",
       "      <th>type</th>\n",
       "      <th></th>\n",
       "      <th></th>\n",
       "    </tr>\n",
       "  </thead>\n",
       "  <tbody>\n",
       "    <tr>\n",
       "      <td>crew</td>\n",
       "      <td>0.762921</td>\n",
       "      <td>0.237079</td>\n",
       "    </tr>\n",
       "    <tr>\n",
       "      <td>passenger</td>\n",
       "      <td>0.620349</td>\n",
       "      <td>0.379651</td>\n",
       "    </tr>\n",
       "  </tbody>\n",
       "</table>\n",
       "</div>"
      ],
      "text/plain": [
       "survived          0         1\n",
       "type                         \n",
       "crew       0.762921  0.237079\n",
       "passenger  0.620349  0.379651"
      ]
     },
     "execution_count": 2,
     "metadata": {},
     "output_type": "execute_result"
    }
   ],
   "source": [
    "survived_given_type = joint_type_survived.divide(\n",
    "    joint_type_survived.sum(axis=1),\n",
    "    axis=0\n",
    ")\n",
    "survived_given_type"
   ]
  },
  {
   "cell_type": "markdown",
   "metadata": {
    "colab_type": "text",
    "id": "T0U4NYOewnFW"
   },
   "source": [
    "From the table, it is apparent that passengers survived at much higher rates than crew members:\n",
    "$$ P(\\text{survived}|\\text{crew}) = 0.237079 < 0.379651 = P(\\text{survived}|\\text{passenger}). $$\n",
    "\n"
   ]
  },
  {
   "cell_type": "markdown",
   "metadata": {
    "colab_type": "text",
    "id": "P3k8BVALo1-z"
   },
   "source": [
    "### 2.3.1 Communication Corner: Reporting Differences in Probabilities"
   ]
  },
  {
   "cell_type": "markdown",
   "metadata": {
    "colab_type": "text",
    "id": "yfcKxLtvo9bB"
   },
   "source": [
    "How do we report the difference between the two probabilities $23.71\\%$ and $37.97\\%$ above? There are a number of ways:\n",
    "\n",
    "1. As an _additive change_: \"Passengers were \n",
    "$$ 37.97\\% - 23.71\\% = 14.26 \\text{ percentage points} $$\n",
    "more likely to survive than crew members.\"\n",
    "2. As a _relative change_ (or _relative risk_): \"Passengers were \n",
    "$$ 37.97\\% \\big/ 23.71\\% = 1.60 \\text{ times} $$\n",
    "as likely to survive as crew members.\" \n",
    "3. We can translate relative changes to _percent changes_ by subtracting $1$ and multiplying by $100\\%$. So we can rephrase the above as: \"Passengers were \n",
    "$$ 100\\% \\times (1.60 - 1.00) = 60\\% $$\n",
    "more likely to survive than crew members.\"\n",
    "4. As an _odds ratio_: \"The odds of a passenger surviving was \n",
    "$$ \\frac{37.97\\% \\big/ (100\\% - 37.97\\%)}{23.71\\% \\big/ (100\\% - 23.71\\%)} = 1.97 \\text{ times} $$\n",
    "greater than the odds of a crew member surviving.\"\n",
    "\n",
    "Note that additive changes and percent changes should be compared to a baseline of 0.0 (and can be negative), while relative changes and odds ratios should be compared to a baseline of 1.0 (and cannot be negative).\n",
    "\n",
    "Watch out: it is incorrect to say that passengers are $14.26\\%$ more likely to survive than crew members, since the percent change is $60\\%$. An additive change should always be reported in units of \"percentage points\"."
   ]
  },
  {
   "cell_type": "markdown",
   "metadata": {
    "colab_type": "text",
    "id": "-KLAqbr3ll3P"
   },
   "source": [
    "### 2.3.2 Controlling for a Variable\n",
    "\n",
    "But is this the whole story? We know that survival rates for males and females were very different. Will the trend between the survival rates for crew and passengers still hold after we _control_ for **gender**? \n",
    "\n",
    "To do this, let's determine the joint distribution of these two variables and a third variable, **gender**. In principle, the frequencies could be represented using a three-dimensional table, but it is difficult to visualize more than two dimensions on paper or on a screen. So we put two of the variables along one dimension and one variable along the other, creating a _three-way table_."
   ]
  },
  {
   "cell_type": "code",
   "execution_count": 3,
   "metadata": {
    "colab": {},
    "colab_type": "code",
    "id": "B7osWJ2kTz-Q"
   },
   "outputs": [
    {
     "data": {
      "text/html": [
       "<div>\n",
       "<style scoped>\n",
       "    .dataframe tbody tr th:only-of-type {\n",
       "        vertical-align: middle;\n",
       "    }\n",
       "\n",
       "    .dataframe tbody tr th {\n",
       "        vertical-align: top;\n",
       "    }\n",
       "\n",
       "    .dataframe thead th {\n",
       "        text-align: right;\n",
       "    }\n",
       "</style>\n",
       "<table border=\"1\" class=\"dataframe\">\n",
       "  <thead>\n",
       "    <tr style=\"text-align: right;\">\n",
       "      <th></th>\n",
       "      <th>survived</th>\n",
       "      <th>0</th>\n",
       "      <th>1</th>\n",
       "    </tr>\n",
       "    <tr>\n",
       "      <th>gender</th>\n",
       "      <th>type</th>\n",
       "      <th></th>\n",
       "      <th></th>\n",
       "    </tr>\n",
       "  </thead>\n",
       "  <tbody>\n",
       "    <tr>\n",
       "      <td rowspan=\"2\" valign=\"top\">female</td>\n",
       "      <td>crew</td>\n",
       "      <td>0.001359</td>\n",
       "      <td>0.009062</td>\n",
       "    </tr>\n",
       "    <tr>\n",
       "      <td>passenger</td>\n",
       "      <td>0.057544</td>\n",
       "      <td>0.153602</td>\n",
       "    </tr>\n",
       "    <tr>\n",
       "      <td rowspan=\"2\" valign=\"top\">male</td>\n",
       "      <td>crew</td>\n",
       "      <td>0.306298</td>\n",
       "      <td>0.086543</td>\n",
       "    </tr>\n",
       "    <tr>\n",
       "      <td>passenger</td>\n",
       "      <td>0.312642</td>\n",
       "      <td>0.072950</td>\n",
       "    </tr>\n",
       "  </tbody>\n",
       "</table>\n",
       "</div>"
      ],
      "text/plain": [
       "survived                 0         1\n",
       "gender type                         \n",
       "female crew       0.001359  0.009062\n",
       "       passenger  0.057544  0.153602\n",
       "male   crew       0.306298  0.086543\n",
       "       passenger  0.312642  0.072950"
      ]
     },
     "execution_count": 3,
     "metadata": {},
     "output_type": "execute_result"
    }
   ],
   "source": [
    "joint_gender_type_survived = pd.crosstab(\n",
    "    [df_titanic[\"gender\"], df_titanic[\"type\"]],\n",
    "    df_titanic[\"survived\"],\n",
    "    normalize=True\n",
    ")\n",
    "joint_gender_type_survived"
   ]
  },
  {
   "cell_type": "markdown",
   "metadata": {
    "colab_type": "text",
    "id": "wXI16Sz92C8R"
   },
   "source": [
    "Of course, we would have chosen any two of the variables to place along the rows, or had the two variables along the columns instead of the rows. The particular representation above was chosen because it makes it easy to survival rates for each gender and type, i.e.,\n",
    "$$ P(\\text{survived} | \\textbf{gender}, \\textbf{type}), $$\n",
    "where **gender** is either \"male\" or \"female\" and **type** is either \"crew\" or \"passenger\". Recall that the conditional probability is calculated as \n",
    "$$ P(\\text{survived} | \\textbf{gender}, \\textbf{type}) = \\frac{P(\\text{survived}, \\textbf{gender}, \\textbf{type})}{P(\\textbf{gender}, \\textbf{type})}. $$\n",
    "The numerator is the joint distribution above. The denominator can be calculated by summing over the possible values of **survived**---in other words, across each row, over the columns. "
   ]
  },
  {
   "cell_type": "code",
   "execution_count": 4,
   "metadata": {
    "colab": {},
    "colab_type": "code",
    "id": "sykAVbOLx6-5"
   },
   "outputs": [
    {
     "data": {
      "text/plain": [
       "gender  type     \n",
       "female  crew         0.010421\n",
       "        passenger    0.211146\n",
       "male    crew         0.392841\n",
       "        passenger    0.385591\n",
       "dtype: float64"
      ]
     },
     "execution_count": 4,
     "metadata": {},
     "output_type": "execute_result"
    }
   ],
   "source": [
    "joint_gender_type = joint_gender_type_survived.sum(axis=1)\n",
    "joint_gender_type"
   ]
  },
  {
   "cell_type": "markdown",
   "metadata": {
    "colab_type": "text",
    "id": "grc73IHU4c4l"
   },
   "source": [
    "To obtain the conditional probabilities, we simply divide the joint distribution by the marginal."
   ]
  },
  {
   "cell_type": "code",
   "execution_count": 5,
   "metadata": {
    "colab": {},
    "colab_type": "code",
    "id": "nFAuhAAy3kPQ"
   },
   "outputs": [
    {
     "data": {
      "text/html": [
       "<div>\n",
       "<style scoped>\n",
       "    .dataframe tbody tr th:only-of-type {\n",
       "        vertical-align: middle;\n",
       "    }\n",
       "\n",
       "    .dataframe tbody tr th {\n",
       "        vertical-align: top;\n",
       "    }\n",
       "\n",
       "    .dataframe thead th {\n",
       "        text-align: right;\n",
       "    }\n",
       "</style>\n",
       "<table border=\"1\" class=\"dataframe\">\n",
       "  <thead>\n",
       "    <tr style=\"text-align: right;\">\n",
       "      <th></th>\n",
       "      <th>survived</th>\n",
       "      <th>0</th>\n",
       "      <th>1</th>\n",
       "    </tr>\n",
       "    <tr>\n",
       "      <th>gender</th>\n",
       "      <th>type</th>\n",
       "      <th></th>\n",
       "      <th></th>\n",
       "    </tr>\n",
       "  </thead>\n",
       "  <tbody>\n",
       "    <tr>\n",
       "      <td rowspan=\"2\" valign=\"top\">female</td>\n",
       "      <td>crew</td>\n",
       "      <td>0.130435</td>\n",
       "      <td>0.869565</td>\n",
       "    </tr>\n",
       "    <tr>\n",
       "      <td>passenger</td>\n",
       "      <td>0.272532</td>\n",
       "      <td>0.727468</td>\n",
       "    </tr>\n",
       "    <tr>\n",
       "      <td rowspan=\"2\" valign=\"top\">male</td>\n",
       "      <td>crew</td>\n",
       "      <td>0.779700</td>\n",
       "      <td>0.220300</td>\n",
       "    </tr>\n",
       "    <tr>\n",
       "      <td>passenger</td>\n",
       "      <td>0.810811</td>\n",
       "      <td>0.189189</td>\n",
       "    </tr>\n",
       "  </tbody>\n",
       "</table>\n",
       "</div>"
      ],
      "text/plain": [
       "survived                 0         1\n",
       "gender type                         \n",
       "female crew       0.130435  0.869565\n",
       "       passenger  0.272532  0.727468\n",
       "male   crew       0.779700  0.220300\n",
       "       passenger  0.810811  0.189189"
      ]
     },
     "execution_count": 5,
     "metadata": {},
     "output_type": "execute_result"
    }
   ],
   "source": [
    "survived_given_gender_type = joint_gender_type_survived.divide(\n",
    "    joint_gender_type,\n",
    "    axis=0\n",
    ")\n",
    "survived_given_gender_type"
   ]
  },
  {
   "cell_type": "markdown",
   "metadata": {
    "colab_type": "text",
    "id": "hO6Xl5uc4yeJ"
   },
   "source": [
    "Now, let's compare the survival rates of passengers and crew members for females and males separately. \n",
    "\n",
    "- For females, crew members survived at a higher rate:\n",
    "$$ P(\\text{survived} | \\text{female}, \\text{crew}) = 0.869565 > 0.727468 = P(\\text{survived} | \\text{female}, \\text{passenger}) $$\n",
    "- For males, crew members survived at a higher rate:\n",
    "$$ P(\\text{survived} | \\text{male}, \\text{crew}) = 0.220300 > 0.189189 = P(\\text{survived} | \\text{male}, \\text{passenger}) $$\n",
    "\n",
    "But remember, we found earlier that passengers survived at a higher rate overall:\n",
    "$$ P(\\text{survived} | \\text{crew}) < P(\\text{survived} | \\text{passenger}). $$\n",
    "\n",
    "How is it possible that both male and female crew members survived at a higher rate, yet crew members survived at a lower rate overall? This surprising phenomenon is known as _Simpson's paradox_."
   ]
  },
  {
   "cell_type": "markdown",
   "metadata": {
    "colab_type": "text",
    "id": "A4ZGZYHU_cmQ"
   },
   "source": [
    "### 2.3.3 Simpson's Paradox\n",
    "\n",
    "Simpson's paradox is a phenomenon where a trend disappears or reverses when the data is aggregated. In the Titanic data set, both male and female crew members survived at higher rates, but when we aggregated over gender, the trend reversed.\n",
    "\n",
    "In order to investigate Simpson's paradox, we first reorganize the probabilities. First, we keep only the survival rate, dropping the death rate (since it is redundant; it is just one minus the survival rate)."
   ]
  },
  {
   "cell_type": "code",
   "execution_count": 6,
   "metadata": {
    "colab": {},
    "colab_type": "code",
    "id": "gSHq3a0p4lHc"
   },
   "outputs": [
    {
     "data": {
      "text/plain": [
       "gender  type     \n",
       "female  crew         0.869565\n",
       "        passenger    0.727468\n",
       "male    crew         0.220300\n",
       "        passenger    0.189189\n",
       "Name: 1, dtype: float64"
      ]
     },
     "execution_count": 6,
     "metadata": {},
     "output_type": "execute_result"
    }
   ],
   "source": [
    "survived_given_gender_type[1]"
   ]
  },
  {
   "cell_type": "markdown",
   "metadata": {
    "colab_type": "text",
    "id": "891TTK5yD4-C"
   },
   "source": [
    "Next, we rearrange these probabilities into a two-way table, with gender along one dimension and type along the other. This can be achieved in code by \"unstacking\" a level of the index. (There are two \"levels\": **gender** and **type**.)"
   ]
  },
  {
   "cell_type": "code",
   "execution_count": 7,
   "metadata": {
    "colab": {},
    "colab_type": "code",
    "id": "z_TLvYAZAuHh"
   },
   "outputs": [
    {
     "data": {
      "text/html": [
       "<div>\n",
       "<style scoped>\n",
       "    .dataframe tbody tr th:only-of-type {\n",
       "        vertical-align: middle;\n",
       "    }\n",
       "\n",
       "    .dataframe tbody tr th {\n",
       "        vertical-align: top;\n",
       "    }\n",
       "\n",
       "    .dataframe thead th {\n",
       "        text-align: right;\n",
       "    }\n",
       "</style>\n",
       "<table border=\"1\" class=\"dataframe\">\n",
       "  <thead>\n",
       "    <tr style=\"text-align: right;\">\n",
       "      <th>type</th>\n",
       "      <th>crew</th>\n",
       "      <th>passenger</th>\n",
       "    </tr>\n",
       "    <tr>\n",
       "      <th>gender</th>\n",
       "      <th></th>\n",
       "      <th></th>\n",
       "    </tr>\n",
       "  </thead>\n",
       "  <tbody>\n",
       "    <tr>\n",
       "      <td>female</td>\n",
       "      <td>0.869565</td>\n",
       "      <td>0.727468</td>\n",
       "    </tr>\n",
       "    <tr>\n",
       "      <td>male</td>\n",
       "      <td>0.220300</td>\n",
       "      <td>0.189189</td>\n",
       "    </tr>\n",
       "  </tbody>\n",
       "</table>\n",
       "</div>"
      ],
      "text/plain": [
       "type        crew  passenger\n",
       "gender                     \n",
       "female  0.869565   0.727468\n",
       "male    0.220300   0.189189"
      ]
     },
     "execution_count": 7,
     "metadata": {},
     "output_type": "execute_result"
    }
   ],
   "source": [
    "survival_rates_by_gender_type = (survived_given_gender_type[1].\n",
    "                                 unstack(level=\"type\"))\n",
    "survival_rates_by_gender_type"
   ]
  },
  {
   "cell_type": "markdown",
   "metadata": {
    "colab_type": "text",
    "id": "tfqITo_eERio"
   },
   "source": [
    "Caution: the probabilities in this table do not represent a distribution. They do not add up to 1.0. These probabilities originally came from the conditional distribution of **survived** given **gender** and **type**, but we dropped the death rates from the data.\n",
    "\n",
    "Finally, we append the overall survival rates (which we calculated at the beginning of this lesson) to the last row of this `DataFrame`."
   ]
  },
  {
   "cell_type": "code",
   "execution_count": 8,
   "metadata": {
    "colab": {},
    "colab_type": "code",
    "id": "3-JZznqGElbe"
   },
   "outputs": [
    {
     "data": {
      "text/html": [
       "<div>\n",
       "<style scoped>\n",
       "    .dataframe tbody tr th:only-of-type {\n",
       "        vertical-align: middle;\n",
       "    }\n",
       "\n",
       "    .dataframe tbody tr th {\n",
       "        vertical-align: top;\n",
       "    }\n",
       "\n",
       "    .dataframe thead th {\n",
       "        text-align: right;\n",
       "    }\n",
       "</style>\n",
       "<table border=\"1\" class=\"dataframe\">\n",
       "  <thead>\n",
       "    <tr style=\"text-align: right;\">\n",
       "      <th>type</th>\n",
       "      <th>crew</th>\n",
       "      <th>passenger</th>\n",
       "    </tr>\n",
       "    <tr>\n",
       "      <th>gender</th>\n",
       "      <th></th>\n",
       "      <th></th>\n",
       "    </tr>\n",
       "  </thead>\n",
       "  <tbody>\n",
       "    <tr>\n",
       "      <td>female</td>\n",
       "      <td>0.869565</td>\n",
       "      <td>0.727468</td>\n",
       "    </tr>\n",
       "    <tr>\n",
       "      <td>male</td>\n",
       "      <td>0.220300</td>\n",
       "      <td>0.189189</td>\n",
       "    </tr>\n",
       "    <tr>\n",
       "      <td>1</td>\n",
       "      <td>0.237079</td>\n",
       "      <td>0.379651</td>\n",
       "    </tr>\n",
       "  </tbody>\n",
       "</table>\n",
       "</div>"
      ],
      "text/plain": [
       "type        crew  passenger\n",
       "gender                     \n",
       "female  0.869565   0.727468\n",
       "male    0.220300   0.189189\n",
       "1       0.237079   0.379651"
      ]
     },
     "execution_count": 8,
     "metadata": {},
     "output_type": "execute_result"
    }
   ],
   "source": [
    "survival_rates_by_gender_type.append(survived_given_type[1])"
   ]
  },
  {
   "cell_type": "markdown",
   "metadata": {
    "colab_type": "text",
    "id": "2DJtoUFbFsoS"
   },
   "source": [
    "The overall survival rates are weighted averages of the survival rates for each gender. If we look at the survival rates for crew members:\n",
    "\n",
    "- The survival rate for female crew is 87.0%.\n",
    "- The survival rate for male crew is 22.0%.\n",
    "- The overall survival rate for all crew is 23.7%, which is between the gender-specific survival rates, but much closer to the survival rate for male crew.\n",
    "\n",
    "Likewise, if we look at the survival rates for passengers:\n",
    "\n",
    "- The survival rate for female crew is 72.7%.\n",
    "- The survival rate for male crew is 18.9%.\n",
    "- The overall survival rate for all crew is 38.0%, which is closer to the middle of the gender-specific survival rates.\n",
    "\n",
    "Why would the survival rate for crew members be so close to the survival rate for male crew? To answer this question, let's examine the weights that go into this weighted average."
   ]
  },
  {
   "cell_type": "markdown",
   "metadata": {
    "colab_type": "text",
    "id": "kpberZC6JgcS"
   },
   "source": [
    "In mathematical notation, the overall survival rate can be decomposed as:\n",
    "$$ \\underbrace{P(\\text{survived} | \\textbf{type})}_{\\text{overall survival rate}} = \\sum_{\\textbf{gender}} \\underbrace{P(\\textbf{gender} | \\textbf{type})}_{\\text{weight}} \\underbrace{P(\\text{survived} | \\textbf{gender}, \\textbf{type})}_{\\text{gender-specific survival rate}}. $$\n",
    "So we see that the weights are $P(\\textbf{gender} | \\textbf{type})$. \n",
    "\n",
    "First, we calculate this conditional distribution from the joint distribution of **gender** and **type**."
   ]
  },
  {
   "cell_type": "code",
   "execution_count": 9,
   "metadata": {
    "colab": {},
    "colab_type": "code",
    "id": "RFbY1iHjD0Op"
   },
   "outputs": [
    {
     "data": {
      "text/html": [
       "<div>\n",
       "<style scoped>\n",
       "    .dataframe tbody tr th:only-of-type {\n",
       "        vertical-align: middle;\n",
       "    }\n",
       "\n",
       "    .dataframe tbody tr th {\n",
       "        vertical-align: top;\n",
       "    }\n",
       "\n",
       "    .dataframe thead th {\n",
       "        text-align: right;\n",
       "    }\n",
       "</style>\n",
       "<table border=\"1\" class=\"dataframe\">\n",
       "  <thead>\n",
       "    <tr style=\"text-align: right;\">\n",
       "      <th>type</th>\n",
       "      <th>crew</th>\n",
       "      <th>passenger</th>\n",
       "    </tr>\n",
       "    <tr>\n",
       "      <th>gender</th>\n",
       "      <th></th>\n",
       "      <th></th>\n",
       "    </tr>\n",
       "  </thead>\n",
       "  <tbody>\n",
       "    <tr>\n",
       "      <td>female</td>\n",
       "      <td>0.025843</td>\n",
       "      <td>0.353834</td>\n",
       "    </tr>\n",
       "    <tr>\n",
       "      <td>male</td>\n",
       "      <td>0.974157</td>\n",
       "      <td>0.646166</td>\n",
       "    </tr>\n",
       "  </tbody>\n",
       "</table>\n",
       "</div>"
      ],
      "text/plain": [
       "type        crew  passenger\n",
       "gender                     \n",
       "female  0.025843   0.353834\n",
       "male    0.974157   0.646166"
      ]
     },
     "execution_count": 9,
     "metadata": {},
     "output_type": "execute_result"
    }
   ],
   "source": [
    "joint_gender_type = pd.crosstab(\n",
    "    df_titanic[\"gender\"],\n",
    "    df_titanic[\"type\"],\n",
    "    normalize=True\n",
    ")\n",
    "\n",
    "gender_given_type = joint_gender_type.divide(\n",
    "    joint_gender_type.sum(axis=0),\n",
    "    axis=1\n",
    ")\n",
    "gender_given_type"
   ]
  },
  {
   "cell_type": "markdown",
   "metadata": {
    "colab_type": "text",
    "id": "YRPNUw50LYK5"
   },
   "source": [
    "Notice that 97.4% of crew members were male! So the lower male survival rate is going to dominate the weighted average when we calculate the overall survival rate for crew members. On the other hand, the gender ratio for passengers was more balanced, so their overall survival rate will end up being closer to the middle of the male and female survival rates.\n",
    "\n",
    "Now, we calculate the weighted average, using the conditional distribution of gender as \"weights\" that we multiply by the survival rates. Then, we sum over the genders to get the weighted averages---i.e., the overall survival rates."
   ]
  },
  {
   "cell_type": "code",
   "execution_count": 10,
   "metadata": {
    "colab": {},
    "colab_type": "code",
    "id": "IdYvc3FxEf4b"
   },
   "outputs": [
    {
     "data": {
      "text/plain": [
       "type\n",
       "crew         0.237079\n",
       "passenger    0.379651\n",
       "dtype: float64"
      ]
     },
     "execution_count": 10,
     "metadata": {},
     "output_type": "execute_result"
    }
   ],
   "source": [
    "(gender_given_type * survival_rates_by_gender_type).sum(axis=0)"
   ]
  },
  {
   "cell_type": "markdown",
   "metadata": {
    "colab_type": "text",
    "id": "-7wX2B2AL9Eu"
   },
   "source": [
    "Check that these match the overall survival rates that we calculated above.\n",
    "\n",
    "So the secret of Simpson's Paradox lies in two facts:\n",
    "\n",
    "1. Survival rates were generally much lower for men than for women.\n",
    "2. Because crew members were predominantly male, their survival rate was weighted towards the lower male survival rate, that their overall survival rate ended up being lower than the survival rate for passengers.\n",
    "\n",
    "Simpson's Paradox means that we have to be careful when comparing proportions from a two-way table, such as survival rates for crew and passengers. When we control for a third variable, such as **gender**, the direction of the effect could change!"
   ]
  },
  {
   "cell_type": "markdown",
   "metadata": {
    "colab_type": "text",
    "id": "z22GzQ4lSIQn"
   },
   "source": [
    "### 2.3.4 Exercises"
   ]
  },
  {
   "cell_type": "markdown",
   "metadata": {
    "colab_type": "text",
    "id": "dyqsG6NaumHE"
   },
   "source": [
    "1\\. Calculate the _percent change_ in survival rates between passengers and crew members, controlling for where they embarked. Does there appear to be a Simpson's paradox effect here?"
   ]
  },
  {
   "cell_type": "markdown",
   "metadata": {
    "colab_type": "text",
    "id": "e8mZsUk6bzcl"
   },
   "source": [
    "Exercise 2 asks you to work with the Florida Death Penalty data set, which is available at  `https://dlsun.github.io/pods/data/death_penalty.csv`. This data set contains information about the races of the defendant and the victim, as well as whether a death penalty verdict was rendered, in 674 homicide trials in Florida between 1976-1987."
   ]
  },
  {
   "cell_type": "markdown",
   "metadata": {
    "colab_type": "text",
    "id": "yYjWGpoUb2QB"
   },
   "source": [
    "2\\. Calculate the _relative risk_ of a death penalty verdict for black defendants (relative to white defendants), adjusting for the race of the victim. How does this compare to what you found at the end of the last chapter? Can you explain intuitively what is going on?"
   ]
  }
 ],
 "metadata": {
  "colab": {
   "authorship_tag": "ABX9TyOEGaB6eOsDbbDvbA9oiK8y",
   "collapsed_sections": [
    "P3k8BVALo1-z"
   ],
   "include_colab_link": true,
   "name": "2.3 Multi-Way Tables and Simpson's Paradox",
   "provenance": []
  },
  "kernelspec": {
   "display_name": "Python 3",
   "language": "python",
   "name": "python3"
  },
  "language_info": {
   "codemirror_mode": {
    "name": "ipython",
    "version": 3
   },
   "file_extension": ".py",
   "mimetype": "text/x-python",
   "name": "python",
   "nbconvert_exporter": "python",
   "pygments_lexer": "ipython3",
   "version": "3.7.4"
  }
 },
 "nbformat": 4,
 "nbformat_minor": 4
}
