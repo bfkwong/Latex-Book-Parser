{
 "cells": [
  {
   "cell_type": "markdown",
   "metadata": {
    "colab_type": "text",
    "id": "wYwaQ8kH5T3p"
   },
   "source": [
    "## 2.2 Two-Way Tables and Two Categorical Variables"
   ]
  },
  {
   "cell_type": "markdown",
   "metadata": {
    "colab_type": "text",
    "id": "rQVaqbgu5T3s"
   },
   "source": [
    "Data science is all about relationships between variables. How do we summarize and visualize the relationship between two categorical variables?\n",
    "\n",
    "For example, what can we say about the relationship between gender and survival on the Titanic?"
   ]
  },
  {
   "cell_type": "code",
   "execution_count": null,
   "metadata": {
    "colab": {},
    "colab_type": "code",
    "id": "1EBjRynE5T3t"
   },
   "outputs": [],
   "source": [
    "import pandas as pd\n",
    "data_dir = \"http://dlsun.github.io/pods/data/\"\n",
    "df_titanic = pd.read_csv(data_dir + \"titanic.csv\")"
   ]
  },
  {
   "cell_type": "markdown",
   "metadata": {
    "colab_type": "text",
    "id": "HV_CxOyd5T3x"
   },
   "source": [
    "We can summarize each variable individually like we did in the previous lesson."
   ]
  },
  {
   "cell_type": "code",
   "execution_count": null,
   "metadata": {
    "colab": {},
    "colab_type": "code",
    "id": "IoU2Oyh45T3y"
   },
   "outputs": [],
   "source": [
    "df_titanic[\"gender\"].value_counts()"
   ]
  },
  {
   "cell_type": "code",
   "execution_count": null,
   "metadata": {
    "colab": {},
    "colab_type": "code",
    "id": "JDOvAR_c5T31"
   },
   "outputs": [],
   "source": [
    "df_titanic[\"survived\"].value_counts()"
   ]
  },
  {
   "cell_type": "markdown",
   "metadata": {
    "colab_type": "text",
    "id": "9-j30d535T35"
   },
   "source": [
    "But this does not tell us how gender interacts with survival. To do that, we need to produce a _cross-tabulation_, or \"cross-tab\" for short. (Statisticians tend to call this a _contigency table_ or a _two-way table_.)"
   ]
  },
  {
   "cell_type": "code",
   "execution_count": null,
   "metadata": {
    "colab": {},
    "colab_type": "code",
    "id": "tfPjloEx5T36"
   },
   "outputs": [],
   "source": [
    "pd.crosstab(df_titanic[\"survived\"], df_titanic[\"gender\"])"
   ]
  },
  {
   "cell_type": "markdown",
   "metadata": {
    "colab_type": "text",
    "id": "stYsPqxu5T38"
   },
   "source": [
    "A cross-tabulation of two categorical variables is a two-dimensional array, with the levels of one variable along the rows and the levels of the other variable along the columns. Each cell in this array contains the number of observations that had a particular combination of levels. So in the Titanic data set, there were 359 females who survived and 1366 males who died. From the cross-tabulation, we can see that there were more females who survived than not, while there were more males who died than not. Clearly, gender had a strong influence on survival because of the Titanic's policy of \"women and children first\".\n",
    "\n",
    "To get probabilities instead of counts, we specify `normalize=True`.\n"
   ]
  },
  {
   "cell_type": "code",
   "execution_count": null,
   "metadata": {
    "colab": {},
    "colab_type": "code",
    "id": "26rO6gus5T39"
   },
   "outputs": [],
   "source": [
    "joint_survived_gender = pd.crosstab(df_titanic[\"survived\"], df_titanic[\"gender\"], \n",
    "                                    normalize=True)\n",
    "joint_survived_gender"
   ]
  },
  {
   "cell_type": "markdown",
   "metadata": {
    "colab_type": "text",
    "id": "avjKJMgH5T3_"
   },
   "source": [
    "Notice that the four probabilities in this table add up to 1.0. Each of these probabilities is called a joint probability and can be notated, for example, as \n",
    "\n",
    "$$ P(\\text{female}, \\text{died}) = 0.058903.$$\n",
    "\n",
    "Collectively, these probabilities make up the _joint distribution_ of the variables **survived** and **gender**."
   ]
  },
  {
   "cell_type": "markdown",
   "metadata": {
    "colab_type": "text",
    "id": "viccCmLk5T4A"
   },
   "source": [
    "### 2.2.1 Marginal Distributions\n",
    "\n",
    "Is it possible to recover the distribution of **gender** alone from the joint distribution of **survived** and **gender**? "
   ]
  },
  {
   "cell_type": "markdown",
   "metadata": {
    "colab_type": "text",
    "id": "Oed801JC5T4B"
   },
   "source": [
    "Yes! We simply sum the probabilities for each **gender** over all the possible levels of **survived**.\n",
    "\n",
    "$$\\begin{align}\n",
    "P(\\text{female}) = P(\\text{female}, \\text{died}) + P(\\text{female}, \\text{survived}) &= 0.058903 + 0.162664 = 0.221567 \\\\\n",
    "P(\\text{male}) = P(\\text{male}, \\text{died}) + P(\\text{male}, \\text{survived}) &= 0.618940 + 0.159493 = 0.778433\n",
    "\\end{align}$$"
   ]
  },
  {
   "cell_type": "markdown",
   "metadata": {
    "colab_type": "text",
    "id": "-dfxBIpe5T4C"
   },
   "source": [
    "In code, this can be achieved by summing the `DataFrame` _over_ one of the dimensions. We can specify which dimension to sum over, using the `axis=` argument to `.sum()`.\n",
    "\n",
    "- `axis=0` refers to the rows. In the current example, **survived** is the variable along this axis.\n",
    "- `axis=1` refers to the columns. In the current example, **gender** is the variable along this axis.\n",
    "\n",
    "Since we want to sum _over_ the **survived** variable, we specify `.sum(axis=0)`."
   ]
  },
  {
   "cell_type": "code",
   "execution_count": null,
   "metadata": {
    "colab": {},
    "colab_type": "code",
    "id": "N11E5yfV5T4C"
   },
   "outputs": [],
   "source": [
    "gender = joint_survived_gender.sum(axis=0)\n",
    "gender"
   ]
  },
  {
   "cell_type": "markdown",
   "metadata": {
    "colab_type": "text",
    "id": "N4V_vHVa5T4F"
   },
   "source": [
    "When calculated from a joint distribution, the distribution of one variable is called a _marginal distribution_. So the above is the marginal distribution of **gender**. \n",
    "\n",
    "The name \"marginal distribution\" comes from the fact that it is customary to write these totals in the _margins_ of the table. In fact `pd.crosstab()` has an argument `margins=` that automatically adds these margins to the cross-tabulation."
   ]
  },
  {
   "cell_type": "code",
   "execution_count": null,
   "metadata": {
    "colab": {},
    "colab_type": "code",
    "id": "1IVYHfJE5T4G"
   },
   "outputs": [],
   "source": [
    "pd.crosstab(df_titanic[\"survived\"], df_titanic[\"gender\"], \n",
    "            normalize=True, margins=True)"
   ]
  },
  {
   "cell_type": "markdown",
   "metadata": {
    "colab_type": "text",
    "id": "xXEAUmrY5T4J"
   },
   "source": [
    "While the margins are useful for display purposes, they actually make computations more difficult, since it is easy to mix up which numbers correspond to joint probabilities and which ones correspond to marginal probabilities.\n",
    "\n",
    "Likewise, to obtain the marginal distribution of **survived**, we sum over the possible levels of **gender** (which is the variable along `axis=1`)."
   ]
  },
  {
   "cell_type": "code",
   "execution_count": null,
   "metadata": {
    "colab": {},
    "colab_type": "code",
    "id": "73nrjS6q5T4K"
   },
   "outputs": [],
   "source": [
    "survived = joint_survived_gender.sum(axis=1)\n",
    "survived"
   ]
  },
  {
   "cell_type": "markdown",
   "metadata": {
    "colab_type": "text",
    "id": "6_XMWBA_5T4M"
   },
   "source": [
    "We can check this answer by calculating the distribution of **survived** directly from the original data, using the techniques from the previous lesson."
   ]
  },
  {
   "cell_type": "code",
   "execution_count": null,
   "metadata": {
    "colab": {},
    "colab_type": "code",
    "id": "iT5MSEBu5T4N"
   },
   "outputs": [],
   "source": [
    "df_titanic[\"survived\"].value_counts(normalize=True)"
   ]
  },
  {
   "cell_type": "markdown",
   "metadata": {
    "colab_type": "text",
    "id": "o3c5zVCp5T4P"
   },
   "source": [
    "### 2.2.2 Conditional Distributions\n",
    "\n",
    "Let's take another look at the joint distribution of **survived** and **gender**."
   ]
  },
  {
   "cell_type": "code",
   "execution_count": null,
   "metadata": {
    "colab": {},
    "colab_type": "code",
    "id": "NnNzfDhl5T4Q"
   },
   "outputs": [],
   "source": [
    "joint_survived_gender"
   ]
  },
  {
   "cell_type": "markdown",
   "metadata": {
    "colab_type": "text",
    "id": "QAMzLIyS5T4S"
   },
   "source": [
    "From the joint distribution, it is tempting to conclude that females and males did not differ too much in their survival rates, since \n",
    "\n",
    "$$ P(\\text{female}, \\text{survived}) = 0.162664 $$\n",
    "\n",
    "is not too different from\n",
    "\n",
    "$$ P(\\text{male}, \\text{survived}) = 0.159493. $$\n",
    "\n",
    "This is because there were 359 women and 352 men who survived, out of 2207 passengers.\n",
    "\n",
    "But this is the wrong comparison. The joint probabilities are affected by the baseline gender probabilities, and over three-quarters of the people aboard the Titanic were men. $P(\\text{male}, \\text{survived})$ and $ P(\\text{female}, \\text{survived})$ should not even be close if men were just as likely to survive as women, simply because of the sheer number of men aboard."
   ]
  },
  {
   "cell_type": "markdown",
   "metadata": {
    "colab_type": "text",
    "id": "p9x2uj995T4S"
   },
   "source": [
    "A better comparison is between the conditional probabilities. We ought to compare \n",
    "\n",
    "$$ P(\\text{survived} | \\text{female}) $$\n",
    "\n",
    "to \n",
    "\n",
    "$$ P(\\text{survived} | \\text{male}). $$\n",
    "\n",
    "To calculate each conditional probability, we simply divide the joint probability by the marginal probability. That is,\n",
    "\n",
    "$$\\begin{align}\n",
    "P(\\text{survived} | \\text{female}) = \\frac{P(\\text{female}, \\text{survived})}{P(\\text{female})} &= \\frac{0.162664}{0.221568} = .7341 \\\\\n",
    "P(\\text{survived} | \\text{male}) = \\frac{P(\\text{male}, \\text{survived})}{P(\\text{male})} &= \\frac{0.159493}{0.778432} = .2049\n",
    "\\end{align}$$\n",
    "\n",
    "The conditional probabilities expose the stark difference in survival rates. One way to think about conditional probabilities is that they _adjust_ for the baseline gender probabilities. By dividing by $P(\\text{male})$ and $P(\\text{female})$, we adjust for the fact that there were more men and fewer women on the Titanic, thus enabling an apples-to-apples comparison."
   ]
  },
  {
   "cell_type": "markdown",
   "metadata": {
    "colab_type": "text",
    "id": "FxUNMw_Q5T4T"
   },
   "source": [
    "In code, this can be achieved by dividing the joint distribution by the marginal distribution (of **gender**). However, we have to be careful:\n",
    "\n",
    "- The joint distribution is a two-dimensional array. It is stored as a `DataFrame`.\n",
    "- The marginal distribution (of **gender**) is a one-dimensional array. It is stored as a `Series`.\n",
    "\n",
    "How is it possible to divide a two-dimensional object by a one-dimensional object? Only if we _broadcast_ the one-dimensional object over the other dimension. A toy example is illustrated below.\n",
    "\n",
    "$$\\begin{align}\n",
    "\\begin{bmatrix} 1 & 2 \\\\ 3 & 4 \\\\ 5 & 6 \\end{bmatrix} \\Big/ \\begin{bmatrix} 7 \\\\ 8 \\end{bmatrix} &= \\begin{bmatrix} 1 & 2 \\\\ 3 & 4 \\\\ 5 & 6 \\end{bmatrix}  \\Big/ \\begin{bmatrix} 7 & 8 \\\\ 7 & 8 \\\\ 7 & 8 \\end{bmatrix} \\\\\n",
    "&= \\begin{bmatrix} 1/7 & 2/8 \\\\ 3/7 & 4/8 \\\\ 5/7 & 6/8 \\end{bmatrix}\n",
    "\\end{align}$$\n",
    "\n",
    "To do this in `pandas`, we use the `.divide()` method, specifying the dimension on which to align the `Series` with the `DataFrame`. Since **gender** is on `axis=1` of `joint_survived_gender`, we align the `DataFrame` and `Series` along `axis=1`."
   ]
  },
  {
   "cell_type": "code",
   "execution_count": null,
   "metadata": {
    "colab": {},
    "colab_type": "code",
    "id": "KP75UNxB5T4U"
   },
   "outputs": [],
   "source": [
    "cond_survived_gender = joint_survived_gender.divide(gender, axis=1)\n",
    "# In this case, joint_survived_gender / gender would also haved worked,\n",
    "# but better to play it safe and be explicit about the axis.\n",
    "\n",
    "cond_survived_gender "
   ]
  },
  {
   "cell_type": "markdown",
   "metadata": {
    "colab_type": "text",
    "id": "m2qHa0pW5T4W"
   },
   "source": [
    "Every probability in this table represents a conditional probability of gender given survival status. So from the table, we can read that \n",
    "\n",
    "$$ P(\\text{survived} | \\text{female}) = 0.734151. $$\n",
    "\n",
    "Notice that each row sums to $1.0$---as it must, since given the information that a person was female, there are only two possibilities: she either survived or died.\n",
    "\n",
    "In other words, we have a distribution of **survived** for each level of **gender**. We might wish to compare these two distributions. When we call `.plot.bar()` on the `DataFrame`, it will plot the values in each column as a set of bars with its own color."
   ]
  },
  {
   "cell_type": "code",
   "execution_count": null,
   "metadata": {
    "colab": {},
    "colab_type": "code",
    "id": "3M5esSwg5T4X"
   },
   "outputs": [],
   "source": [
    "cond_survived_gender.plot.bar()"
   ]
  },
  {
   "cell_type": "markdown",
   "metadata": {
    "colab_type": "text",
    "id": "9aekQnQq5T4a"
   },
   "source": [
    "A different way to visualize a conditional distribution is to use a stacked bar graph. Here, we want one bar for females and another for males, each one divided in proportion to the survival rates for that gender. First, let's take a look at the desired graph."
   ]
  },
  {
   "cell_type": "code",
   "execution_count": null,
   "metadata": {
    "colab": {},
    "colab_type": "code",
    "id": "uinqREkO5T4b"
   },
   "outputs": [],
   "source": [
    "cond_survived_gender.T.plot.bar(stacked=True)"
   ]
  },
  {
   "cell_type": "markdown",
   "metadata": {
    "colab_type": "text",
    "id": "6jL0QjI_5T4g"
   },
   "source": [
    "Now, let's unpack the code that generated this graphic. Recall that `.plot.bar()` plots each column of a `DataFrame` in a different color. Here we want different colors for each level of **survived**, so we need to swap the rows and columns of `cond_survived_gender`. In other words, we need the _transpose_ of the `DataFrame`, which is accomplished using `.T`."
   ]
  },
  {
   "cell_type": "code",
   "execution_count": null,
   "metadata": {
    "colab": {},
    "colab_type": "code",
    "id": "Mo-3NPxk5T4h"
   },
   "outputs": [],
   "source": [
    "cond_survived_gender.T"
   ]
  },
  {
   "cell_type": "markdown",
   "metadata": {
    "colab_type": "text",
    "id": "0WdggwtW5T4j"
   },
   "source": [
    "When we call `.plot.bar()` on this transposed `DataFrame`, with `stacked=True`, we obtain the stacked bar graph above."
   ]
  },
  {
   "cell_type": "markdown",
   "metadata": {
    "colab_type": "text",
    "id": "hQxlW-oM5T4k"
   },
   "source": [
    "### 2.2.3 Exercises"
   ]
  },
  {
   "cell_type": "markdown",
   "metadata": {
    "colab_type": "text",
    "id": "E7FFsbT_5T4m"
   },
   "source": [
    "Exercises 1-4 ask you to continue working with the Titanic data set explored in this lesson."
   ]
  },
  {
   "cell_type": "markdown",
   "metadata": {
    "colab_type": "text",
    "id": "sMmCTXYg5T4n"
   },
   "source": [
    "1\\. Filter the data to include passengers only. Calculate the joint distribution between a passenger's class and where they embarked. "
   ]
  },
  {
   "cell_type": "markdown",
   "metadata": {
    "colab_type": "text",
    "id": "s_Zwk3te5T4q"
   },
   "source": [
    "2\\. Using the joint distribution that you calculated in Exercise 1, calculate the following:\n",
    "\n",
    "- the conditional distribution of their class given where they embarked\n",
    "- the conditional distribution of where they embarked given their class\n",
    "\n",
    "Use the conditional distributions that you calculate to answer the following questions:\n",
    "\n",
    "- What proportion of 3rd class passengers embarked at Southampton?\n",
    "- What proportion of Southampton passengers were in 3rd class?"
   ]
  },
  {
   "cell_type": "markdown",
   "metadata": {
    "colab_type": "text",
    "id": "B4p41quj5T4s"
   },
   "source": [
    "3\\. Make a visualization showing the distribution of a passenger's class, given where they embarked."
   ]
  },
  {
   "cell_type": "markdown",
   "metadata": {
    "colab_type": "text",
    "id": "PZrb2BLW5T4t"
   },
   "source": [
    "4\\. Compare the survival rates of crew members versus passengers. Which group appears to survive at higher rates?\n",
    "\n",
    "(_Hint:_ You will have to transform the **class** variable to a variable that indicates whether a person was a passenger or a crew member. Refer to the previous lesson.)"
   ]
  },
  {
   "cell_type": "markdown",
   "metadata": {
    "colab_type": "text",
    "id": "krZH0nZZ5T4u"
   },
   "source": [
    "Exercises 5-6 ask you to work with the Florida Death Penalty data set, which is available at  `https://dlsun.github.io/pods/data/death_penalty.csv`. This data set contains information about the races of the defendant and the victim, as well as whether a death penalty verdict was rendered, in 674 homicide trials in Florida between 1976-1987."
   ]
  },
  {
   "cell_type": "markdown",
   "metadata": {
    "colab_type": "text",
    "id": "4VXeNjMI5T4u"
   },
   "source": [
    "5\\. Use the joint distribution to summarize the relationship between the defendant's and the victim's races in Florida homicides."
   ]
  },
  {
   "cell_type": "markdown",
   "metadata": {
    "colab_type": "text",
    "id": "GiodsH3i5T4v"
   },
   "source": [
    "6\\. Does there appear to be a relationship between death penalty verdicts and the defendant's race? If so, in what direction?"
   ]
  }
 ],
 "metadata": {
  "colab": {
   "name": "2.2 Two Categorical Variables and Cross-Tabulations.ipynb",
   "provenance": []
  },
  "kernelspec": {
   "display_name": "Python 3",
   "language": "python",
   "name": "python3"
  },
  "language_info": {
   "codemirror_mode": {
    "name": "ipython",
    "version": 3
   },
   "file_extension": ".py",
   "mimetype": "text/x-python",
   "name": "python",
   "nbconvert_exporter": "python",
   "pygments_lexer": "ipython3",
   "version": "3.7.4"
  }
 },
 "nbformat": 4,
 "nbformat_minor": 4
}
