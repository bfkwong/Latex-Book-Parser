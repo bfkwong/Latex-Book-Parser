{
 "cells": [
  {
   "cell_type": "markdown",
   "metadata": {
    "colab_type": "text",
    "id": "view-in-github"
   },
   "source": [
    "<a href=\"https://colab.research.google.com/github/dlsun/pods/blob/master/Chapter_01_The_Data_Ecosystem/Chapter_1.2_Tabular_Data.ipynb\" target=\"_parent\"><img src=\"https://colab.research.google.com/assets/colab-badge.svg\" alt=\"Open In Colab\"/></a>"
   ]
  },
  {
   "cell_type": "markdown",
   "metadata": {
    "colab_type": "text",
    "id": "N4l5tHGE3TJK"
   },
   "source": [
    "# Ch.1 Tabular Data\n",
    "\n",
    "What does data look like? For most people, the first image that comes to mind is a spreadsheet, where each row represents something being measured and each column a type of measurement. This stereotype exists for a reason; many real-world data sets can indeed be organized this way. Data that can be represented using rows and columns is called _tabular data_. The rows are also called _observations_ or _records_,  while the columns are called _variables_ or _fields_. The different terms reflect the diverse communities within data science, and their origins are summarized in the table below.\n",
    "\n",
    "|                     | Rows           | Columns     |\n",
    "|---------------------|----------------|-------------|\n",
    "| Statisticians       | \"observations\" | \"variables\" |\n",
    "| Computer Scientists | \"records\"      | \"fields\"    |\n",
    "\n",
    "## 1.1 Pandas DataFrames\n",
    "\n",
    "The table below is an example of a \n",
    "data set that can be represented in tabular form. \n",
    "This is a sample of user profiles in the \n",
    "San Francisco Bay Area from the online dating website \n",
    "OKCupid. In this case, each observation is an OKCupid user, and the variables include age, body type, height, and \n",
    "(relationship) status. Although a \n",
    "`DataFrame` can contain values of all types, the \n",
    "values within a column are typically all of the same \n",
    "type---the age and height columns store\n",
    "numbers, while the body type and \n",
    "status columns store strings. Some values may be missing, such as body type for the first user \n",
    "and diet for the second.\n",
    "\n",
    "| age | body type |        diet       | ... | smokes | height | status |\n",
    "|-----|-----------|-------------------|-----|--------|--------|--------|\n",
    "| 31  |           | mostly vegetarian | ... |   no   |   67   | single |\n",
    "| 31  |  average  |                   | ... |   no   |   66   | single |\n",
    "| 43  |   curvy   |                   | ... | trying to quit | 65 | single |\n",
    "| ... |    ...    |       ...         | ... |  ...   |  ...   | ... |\n",
    "| 60  |    fit    |                   | ... |   no   |   57   | single |\n",
    "\n",
    "Within Python, tabular data is typically stored in \n",
    "a special type of object called a `DataFrame`. A `DataFrame` is optimized for storing tabular data; for example, it uses the fact that the values within a column are all the same type to save memory and speed up computations. Unfortunately, the `DataFrame` is not built into base Python, a reminder that Python is a general-purpose programming language. To be able to work with `DataFrame`s, we have to import a data science package called `pandas`, which essentially does one thing---define a data structure called a `DataFrame` for storing tabular data. But this data structure is so fundamental to data science that importing `pandas` is the very first line of many Jupyter notebooks and Python scripts:"
   ]
  },
  {
   "cell_type": "code",
   "execution_count": null,
   "metadata": {
    "colab": {},
    "colab_type": "code",
    "id": "P6aZVeKg9ZGb"
   },
   "outputs": [],
   "source": [
    "import pandas as pd"
   ]
  },
  {
   "cell_type": "markdown",
   "metadata": {
    "colab_type": "text",
    "id": "6T1LDcxO9Z0D"
   },
   "source": [
    "This command makes `pandas` objects and utilities \n",
    "available under the abbreviation `pd`."
   ]
  },
  {
   "cell_type": "markdown",
   "metadata": {
    "colab_type": "text",
    "id": "KYdirVaS523q"
   },
   "source": [
    "### 1.1.1 Reading From CSV\n",
    "\n",
    "How do we get data, which is ordinarily stored in a file on disk, \n",
    "into a `pandas` `DataFrame`? `pandas` provides \n",
    "several utilities for reading data. For example, \n",
    "the OKCupid data in \n",
    "the table above is stored as a _comma-separated values_ (CSV) file on \n",
    "the web, available at the URL https://dlsun.github.io/pods/data/okcupid.csv.\n",
    "\n",
    "We can read in this file from the web using the `read_csv` function in `pandas`:"
   ]
  },
  {
   "cell_type": "code",
   "execution_count": null,
   "metadata": {
    "colab": {},
    "colab_type": "code",
    "id": "iQuzKGgy54by"
   },
   "outputs": [],
   "source": [
    "data_dir = \"https://dlsun.github.io/pods/data/\"\n",
    "df_okcupid = pd.read_csv(data_dir + \"okcupid.csv\")\n",
    "df_okcupid.head()"
   ]
  },
  {
   "cell_type": "markdown",
   "metadata": {
    "colab_type": "text",
    "id": "btNgamkR6bxr"
   },
   "source": [
    "The `read_csv` function is also able \n",
    "to read in a file from disk. It automatically infers \n",
    "where to look based on the file path. \n",
    "Unless the path is obviously a URL (e.g., it begins with `http://`), it looks for the file \n",
    "on the local machine."
   ]
  },
  {
   "cell_type": "markdown",
   "metadata": {
    "colab_type": "text",
    "id": "OTAXMMVLqc9G"
   },
   "source": [
    "Notice above how missing values are represented in a `pandas` `DataFrame`. Each missing value is represented by a `NaN`, which is short for \"not a number\". As we will see, most `pandas` operations simply ignore `NaN` values."
   ]
  },
  {
   "cell_type": "markdown",
   "metadata": {
    "colab_type": "text",
    "id": "7pgZHERn8zmO"
   },
   "source": [
    "### 1.1.2 Exercises"
   ]
  },
  {
   "cell_type": "markdown",
   "metadata": {
    "colab_type": "text",
    "id": "metKlkS6stFX"
   },
   "source": [
    "1. Download the OKCupid data set above to your workstation and use `read_csv` to read in the file from your local machine.\n",
    "\n",
    "2. Read in the Framingham Heart Study data set, \n",
    "    which is available at the URL `https://dlsun.github.io/pods/data/framingham_long.csv`. Be sure to give the `DataFrame` an \n",
    "    informative variable name."
   ]
  }
 ],
 "metadata": {
  "colab": {
   "collapsed_sections": [],
   "include_colab_link": true,
   "name": "Chapter 1.2 Tabular Data",
   "provenance": []
  },
  "kernelspec": {
   "display_name": "Python 3",
   "language": "python",
   "name": "python3"
  },
  "language_info": {
   "codemirror_mode": {
    "name": "ipython",
    "version": 3
   },
   "file_extension": ".py",
   "mimetype": "text/x-python",
   "name": "python",
   "nbconvert_exporter": "python",
   "pygments_lexer": "ipython3",
   "version": "3.7.4"
  }
 },
 "nbformat": 4,
 "nbformat_minor": 4
}
