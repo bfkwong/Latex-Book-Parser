{
 "cells": [
  {
   "cell_type": "markdown",
   "metadata": {
    "colab_type": "text",
    "id": "view-in-github"
   },
   "source": [
    "<a href=\"https://colab.research.google.com/github/dlsun/pods/blob/master/Chapter_01_The_Data_Ecosystem/Chapter_1.4_Columns_and_Variables.ipynb\" target=\"_parent\"><img src=\"https://colab.research.google.com/assets/colab-badge.svg\" alt=\"Open In Colab\"/></a>"
   ]
  },
  {
   "cell_type": "markdown",
   "metadata": {
    "colab_type": "text",
    "id": "jDl1ZPzz08kD"
   },
   "source": [
    "## 1.3 Columns and Variables\n",
    "\n",
    "Recall that the columns of a tabular data set represent variables. They are the measurements that we make on each observation. \n",
    "\n",
    "As an example, let's consider the variables in the OKCupid data set. This data set does not have a natural index, so we use the default index (0, 1, 2, ...)."
   ]
  },
  {
   "cell_type": "code",
   "execution_count": null,
   "metadata": {
    "colab": {},
    "colab_type": "code",
    "id": "-5F143Dj7OKh"
   },
   "outputs": [],
   "source": [
    "import pandas as pd\n",
    "\n",
    "data_dir = \"https://dlsun.github.io/pods/data/\"\n",
    "df_okcupid = pd.read_csv(data_dir + \"okcupid.csv\")\n",
    "df_okcupid.head()"
   ]
  },
  {
   "cell_type": "markdown",
   "metadata": {
    "colab_type": "text",
    "id": "_CScd5-542Ci"
   },
   "source": [
    "### 1.3.1 Types of Variables\n",
    "\n",
    "There is a fundamental difference between variables like `age` and `height`, which can be measured on a numeric scale, and variables like `religion` and `orientation`, which cannot be.\n",
    "\n",
    "Variables that can be measured on a numeric scale are called **quantitative variables**. Just because a variable happens to contain numbers does not necessarily make it \"quantitative\". For example, in the Framingham data set, the `SEX` column was coded as 1 for men and 2 for women. However, these numbers are not on any meaningful numerical scale; a woman is not \"twice\" a man.\n",
    "\n",
    "Variables that are not quantitative but take on a limited set of values are called **categorical variables**. For example, the variable `orientation` takes on one of three possible values (gay, straight, or bisexual), so it is a categorical variable. So is the variable `religion`, which takes on a larger, but still limited, set of values. We call each possible value of a categorical variable a \"level\". Levels are usually non-numeric.\n",
    "\n",
    "Some variables do not fit neatly into either classification. For example, the variable `essay1` contains users' answers to the prompt \"What I’m doing with my life\". This variable is obviously not quantitative, but it is not categorical either because every user has a unique answer. In other words, this variable does not take on a limited set of values. We will group such variables into an \"other\" category.\n",
    "\n",
    "Every variable can be classified into one of these three **types**: \n",
    "- quantitative,\n",
    "- categorical, or\n",
    "- other. \n",
    "\n",
    "The type of the variable often dictates how we analyze that variable, as we will see in the next two chapters."
   ]
  },
  {
   "cell_type": "markdown",
   "metadata": {
    "colab_type": "text",
    "id": "xZlpl3SVELs4"
   },
   "source": [
    "### 1.3.2 Selecting Variables\n",
    "\n",
    "Suppose we want to select the `age` column from the `DataFrame` above. There are three ways to do this."
   ]
  },
  {
   "cell_type": "markdown",
   "metadata": {
    "colab_type": "text",
    "id": "vleFOfFYE82o"
   },
   "source": [
    "1\\.  Use `.loc`, specifying both the rows and columns. (The colon `:` is Python shorthand for \"all\".)"
   ]
  },
  {
   "cell_type": "code",
   "execution_count": null,
   "metadata": {
    "colab": {},
    "colab_type": "code",
    "id": "tYeLGCqtELgK"
   },
   "outputs": [],
   "source": [
    "df_okcupid.loc[:, \"age\"]"
   ]
  },
  {
   "cell_type": "markdown",
   "metadata": {
    "colab_type": "text",
    "id": "Zw1KEIjeFEbT"
   },
   "source": [
    "2\\. Access the column as you would a key in a `dict`."
   ]
  },
  {
   "cell_type": "code",
   "execution_count": null,
   "metadata": {
    "colab": {},
    "colab_type": "code",
    "id": "y7UY-QO_FEIT"
   },
   "outputs": [],
   "source": [
    "df_okcupid[\"age\"]"
   ]
  },
  {
   "cell_type": "markdown",
   "metadata": {
    "colab_type": "text",
    "id": "kixEblNxFMjs"
   },
   "source": [
    "3\\. Access the column as an attribute of the `DataFrame`."
   ]
  },
  {
   "cell_type": "code",
   "execution_count": null,
   "metadata": {
    "colab": {},
    "colab_type": "code",
    "id": "Iivsx62yFMYm"
   },
   "outputs": [],
   "source": [
    "df_okcupid.age"
   ]
  },
  {
   "cell_type": "markdown",
   "metadata": {
    "colab_type": "text",
    "id": "MqwcwoI_FZ9p"
   },
   "source": [
    "Method 3 (attribute access) is the most concise. However, it does not work if the variable name contains spaces or special characters, begins with a number, or matches an existing attribute of `DataFrame`. For example, if `df_okcupid` had a column called `head`, `df_okcupid.head` would not return the column because `df_okcupid.head` is already reserved for something else."
   ]
  },
  {
   "cell_type": "markdown",
   "metadata": {
    "colab_type": "text",
    "id": "TSTNcccjFx_Q"
   },
   "source": [
    "Notice that a `Series` is used here to store a single variable (across multiple observations). In the previous section, we saw that a `Series` can also be used to store a single observation (across multiple columns). To summarize, the `Series` data structure is used to store either a single row or a single column in a tabular data set. In other words, while a `DataFrame` is two-dimensional (containing both rows and columns), a `Series` is one-dimensional."
   ]
  },
  {
   "cell_type": "markdown",
   "metadata": {
    "colab_type": "text",
    "id": "Oh5YgoA7GrgG"
   },
   "source": [
    "To select multiple columns, you would pass in a _list_ of variable names, instead of a single variable name. For example, to select both `age` and `religion`, either of the two methods below would work (and produce the same result):"
   ]
  },
  {
   "cell_type": "code",
   "execution_count": null,
   "metadata": {
    "colab": {},
    "colab_type": "code",
    "id": "0WcfjkqGGvfw"
   },
   "outputs": [],
   "source": [
    "# METHOD 1\n",
    "df_okcupid.loc[:, [\"age\", \"religion\"]].head()\n",
    "\n",
    "# METHOD 2\n",
    "df_okcupid[[\"age\", \"religion\"]].head()"
   ]
  },
  {
   "cell_type": "markdown",
   "metadata": {
    "colab_type": "text",
    "id": "jHFdMuKxHQGh"
   },
   "source": [
    "### 1.3.3 Type Inference and Casting"
   ]
  },
  {
   "cell_type": "markdown",
   "metadata": {
    "colab_type": "text",
    "id": "rQzO52mU49V5"
   },
   "source": [
    "\n",
    "`pandas` tries to infer the type of each variable automatically. If every value in a column (except for missing values) is a number, then `pandas` will treat that variable as quantitative. Otherwise, the variable is treated as categorical. \n",
    "\n",
    "To determine the type that Pandas inferred, simply select that variable using the methods above and look for its `dtype`. A `dtype` of `float64` or `int64` indicates that the variable is quantitative.  For example, the `age` variable has a `dtype` of `int64`, so it is quantitative."
   ]
  },
  {
   "cell_type": "code",
   "execution_count": null,
   "metadata": {
    "colab": {},
    "colab_type": "code",
    "id": "ryMiIIc41cYZ"
   },
   "outputs": [],
   "source": [
    "df_okcupid.age"
   ]
  },
  {
   "cell_type": "markdown",
   "metadata": {
    "colab_type": "text",
    "id": "Hp9eJzrcHnj8"
   },
   "source": [
    "On the other hand, the `religion` variable has a `dtype` of `object`, so `pandas` will treat it as categorical."
   ]
  },
  {
   "cell_type": "code",
   "execution_count": null,
   "metadata": {
    "colab": {},
    "colab_type": "code",
    "id": "G3pTtkAYHeLC"
   },
   "outputs": [],
   "source": [
    "df_okcupid.religion"
   ]
  },
  {
   "cell_type": "markdown",
   "metadata": {
    "colab_type": "text",
    "id": "iL7_9NjKJWaC"
   },
   "source": [
    "Sometimes it is necessary to convert quantitative variables to categorical variables and vice versa. This can be achieved using the `.astype()` method of a `Series`. For example, to convert `age` to a categorical variable, we simply cast its values to strings."
   ]
  },
  {
   "cell_type": "code",
   "execution_count": null,
   "metadata": {
    "colab": {},
    "colab_type": "code",
    "id": "RYkKhlT8IFlz"
   },
   "outputs": [],
   "source": [
    "df_okcupid.age.astype(str)"
   ]
  },
  {
   "cell_type": "markdown",
   "metadata": {
    "colab_type": "text",
    "id": "7PjCiv8KMaep"
   },
   "source": [
    "To save this as a column in the `DataFrame`, we assign it to a column called `age_cat`. (Note that this column does not exist yet! It will be created at the time of assignment.)"
   ]
  },
  {
   "cell_type": "code",
   "execution_count": null,
   "metadata": {
    "colab": {},
    "colab_type": "code",
    "id": "DYO8Nf7eMaMC"
   },
   "outputs": [],
   "source": [
    "df_okcupid[\"age_cat\"] = df_okcupid.age.astype(str)\n",
    "\n",
    "# Check that age_cat is a column in this DataFrame\n",
    "df_okcupid.head()"
   ]
  },
  {
   "cell_type": "markdown",
   "metadata": {
    "colab_type": "text",
    "id": "46Toey3KJmkw"
   },
   "source": [
    "### 1.3.4 Exercises"
   ]
  },
  {
   "cell_type": "markdown",
   "metadata": {
    "colab_type": "text",
    "id": "VPWWaiMkJ8je"
   },
   "source": [
    "Exercises 1-2 deal with the Titanic data set `https://dlsun.github.io/pods/data/titanic.csv`"
   ]
  },
  {
   "cell_type": "markdown",
   "metadata": {
    "colab_type": "text",
    "id": "0pHYmVsPJx5V"
   },
   "source": [
    "1\\. Read in the Titanic data set. Identify each variable in the Titanic data set as either quantitative, categorical, or other. Cast all variables to the right type and assign them back to the `DataFrame`."
   ]
  },
  {
   "cell_type": "code",
   "execution_count": null,
   "metadata": {
    "colab": {},
    "colab_type": "code",
    "id": "Ms1lIXsmJY7g"
   },
   "outputs": [],
   "source": [
    "# YOUR CODE HERE"
   ]
  },
  {
   "cell_type": "markdown",
   "metadata": {
    "colab_type": "text",
    "id": "yXE6l53nO14r"
   },
   "source": [
    "2\\. Create a `DataFrame` (not a `Series`) consisting of just the `class` column."
   ]
  },
  {
   "cell_type": "code",
   "execution_count": null,
   "metadata": {
    "colab": {},
    "colab_type": "code",
    "id": "iqTL7YA2Lz-j"
   },
   "outputs": [],
   "source": [
    "# YOUR CODE HERE"
   ]
  }
 ],
 "metadata": {
  "colab": {
   "collapsed_sections": [],
   "include_colab_link": true,
   "name": "Chapter 1.4 Columns and Variables",
   "provenance": []
  },
  "kernelspec": {
   "display_name": "Python 3",
   "language": "python",
   "name": "python3"
  },
  "language_info": {
   "codemirror_mode": {
    "name": "ipython",
    "version": 3
   },
   "file_extension": ".py",
   "mimetype": "text/x-python",
   "name": "python",
   "nbconvert_exporter": "python",
   "pygments_lexer": "ipython3",
   "version": "3.7.4"
  }
 },
 "nbformat": 4,
 "nbformat_minor": 4
}
